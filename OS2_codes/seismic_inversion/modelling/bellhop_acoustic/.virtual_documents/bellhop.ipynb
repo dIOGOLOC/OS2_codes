








import arlpy.uwapm as pm
import arlpy.plot as plt
import numpy as np


pm.models()











bathy = 1500





ssp = [
    [0, 1535],      # superfície típica da região
    [250, 1520],    # gradiente suave próximo à superfície
    [500, 1505],    # diminuição pelo termoclina
    [1000, 1500],   # próximo ao mínimo de velocidade
    [1500, 1502]    # na lâmina d'água do campo
]





env = pm.create_env2d(
    depth=bathy,
    soundspeed=ssp,
    bottom_absorption=1.0,
    tx_depth=15,
    rx_depth=1500
)


pm.print_env(env)


pm.plot_env(env, width=1000)





pm.plot_ssp(env)





rays = pm.compute_eigenrays(env)
pm.plot_rays(rays, env=env, width=1000)


pm.compute_arrivals(env=env)











beampattern = np.array([
    [-180,  10], [-170, -10], [-160,   0], [-150, -20], [-140, -10], [-130, -30],
    [-120, -20], [-110, -40], [-100, -30], [-90 , -50], [-80 , -30], [-70 , -40],
    [-60 , -20], [-50 , -30], [-40 , -10], [-30 , -20], [-20 ,   0], [-10 , -10],
    [  0 ,  10], [ 10 , -10], [ 20 ,   0], [ 30 , -20], [ 40 , -10], [ 50 , -30],
    [ 60 , -20], [ 70 , -40], [ 80 , -30], [ 90 , -50], [100 , -30], [110 , -40],
    [120 , -20], [130 , -30], [140 , -10], [150 , -20], [160 ,   0], [170 , -10],
    [180 ,  10]
])
env['tx_directionality'] = beampattern


tloss = pm.compute_transmission_loss(env)
pm.plot_transmission_loss(tloss, env=env, clim=[-60,-30], width=900)





surface = np.array([[r, 0.5+0.5*np.sin(2*np.pi*0.005*r)] for r in np.linspace(0,1000,1001)])
env['surface'] = surface


tloss = pm.compute_transmission_loss(env)
pm.plot_transmission_loss(tloss, env=env, clim=[-60,-30], width=1000)





env['rx_range'] = 800
env['rx_depth'] = 15


rays = pm.compute_eigenrays(env)
pm.plot_rays(rays, env=env, width=900)


arrivals = pm.compute_arrivals(env)
pm.plot_arrivals(arrivals, dB=True, width=900)












