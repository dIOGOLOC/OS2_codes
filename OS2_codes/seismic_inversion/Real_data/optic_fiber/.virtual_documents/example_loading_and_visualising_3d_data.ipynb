%load_ext autoreload
%autoreload 2

from os import path


volve_3d_path = path.join("..", "data", "volve10r12-full-twt-sub3d.sgy")
print("3D", volve_3d_path, path.exists(volve_3d_path))


from segysak.segy import segy_loader, get_segy_texthead, segy_header_scan, segy_header_scrape


get_segy_texthead(volve_3d_path)


from segysak.segy import well_known_byte_locs

volve_3d = segy_loader(volve_3d_path, **well_known_byte_locs("petrel_3d"))


volve_3d.data


import matplotlib.pyplot as plt
fig, axs = plt.subplots(ncols=3, figsize=(20, 10))

im = axs[0].imshow(volve_3d.data.isel(iline=50).T, aspect='auto', vmin=-20, vmax=20)
axs[1].plot(volve_3d.data.isel(iline=50, xline=50), volve_3d.coords["twt"].values)
axs[1].invert_yaxis()
axs[2].scatter(volve_3d.cdp_x.values, volve_3d.cdp_y.values)





plt.figure(figsize=(16,8))
plt.subplot(211)

plt.subplot(211)
plt.imshow(volve_3d.mean(['twt']).data)

plt.subplot(212)
plt.imshow(volve_3d.std(['twt']).data)



