




















import segyio
import numpy as np
import matplotlib.pyplot as plt
from scipy import ndimage as ndi
from shutil import copyfile
from skimage import exposure








filename = '../../data/basic/F3_Similarity_FEF_subvolume_IL230-430_XL475-675_T1600-1800.sgy'


similarity = 1-segyio.tools.cube(filename)


filename1 = '../../data/basic/F3_Dip_steered_median_subvolume_IL230-430_XL475-675_T1600-1800.sgy'


seismic = segyio.tools.cube(filename1)





print ('similarity type is: ' + str(similarity.__class__.__name__))


print ('seismic type is: ' + str(similarity.__class__.__name__))





fig = plt.figure(figsize=(14,6))

ax = fig.add_subplot(121)
sim = ax.imshow(similarity[:,:,15], cmap='gray_r');
fig.colorbar(sim, ax=ax)
ax.set_xticks([])
ax.set_yticks([])
ax.invert_xaxis()

ax1 = fig.add_subplot(122)
amp = ax1.imshow(seismic[:,:,15], cmap='gray_r');
fig.colorbar(amp, ax=ax1)
ax1.set_xticks([])
ax1.set_yticks([])
ax1.invert_xaxis()





np.shape(seismic) == np.shape(similarity)


print('Amplitude IL/XL shape: ' + str(np.shape(seismic)[0]) + ' / ' +str(np.shape(seismic)[1])) 


print('Similarity IL/XL shape: ' + str(np.shape(similarity)[0]) + ' / ' +str(np.shape(similarity)[1])) 








with segyio.open(filename, "r") as segyfile:
    # Print inline and crossline ranges
    print('Amplitude Inline range: ' + str(np.amin(segyfile.ilines)) + ' - ' +str(np.amax(segyfile.ilines))) 
    print('Amplitude Crossline range: ' + str(np.amin(segyfile.xlines)) + ' - ' +str(np.amax(segyfile.xlines)))


with segyio.open(filename1, "r") as segyfile:
    # Print inline and crossline ranges
    print('Similarity Inline range: ' + str(np.amin(segyfile.ilines)) + ' - ' +str(np.amax(segyfile.ilines))) 
    print('Similarity Crossline range: ' + str(np.amin(segyfile.xlines)) + ' - ' +str(np.amax(segyfile.xlines)))








seismic = seismic[0:-10:1, 0:-55:1,:]


assert (np.shape(seismic) == np.shape(similarity))


fig = plt.figure(figsize=(14,6))

ax = fig.add_subplot(121)
sim = ax.imshow(similarity[:,:,15], cmap='gray_r');
fig.colorbar(sim, ax=ax)
ax.set_xticks([])
ax.set_yticks([])
ax.invert_xaxis()

ax1 = fig.add_subplot(122)
amp = ax1.imshow(seismic[:,:,15], cmap='gray_r');
fig.colorbar(amp, ax=ax1)
ax1.set_xticks([])
ax1.set_yticks([])
ax1.invert_xaxis()











similarity = np.power(similarity,2)


fig = plt.figure(figsize=(6, 6))

ax = fig.add_subplot(1, 1, 1)
ax.set_xticks([])
ax.set_yticks([])
plt.imshow(similarity[:,:,15], cmap='gray_r',  vmin =0, vmax=0.4);
plt.gca().invert_xaxis()
plt.colorbar();





hi_sim = exposure.histogram(similarity)


plt.plot(hi_sim[1], hi_sim[0], 'brown')
plt.ylim(0, 300000)
plt.axvline(0.1, color='b', ls='--')
plt.axvline(0.05, color='g', ls='--')
plt.xlim(0,0.3);





binary = np.zeros(similarity.shape, dtype=np.uint8)
binary[similarity > 0.05] = 1


fig = plt.figure(figsize=(6, 6))

ax = fig.add_subplot(1, 1, 1)
ax.set_xticks([])
ax.set_yticks([])
plt.imshow(binary[:,:,15], cmap='gray_r');
plt.gca().invert_xaxis()
plt.colorbar();





label_objects, nb_labels = ndi.label(binary)
sizes = np.bincount(label_objects.ravel())
mask_sizes = sizes > 10
mask_sizes[0] = 0
cleaned = mask_sizes[label_objects]*1


fig = plt.figure(figsize=(6, 6))

ax = fig.add_subplot(1, 1, 1)
ax.set_xticks([])
ax.set_yticks([])
plt.imshow(cleaned[:,:,15], cmap='gray_r');
plt.gca().invert_xaxis()
plt.colorbar();





masked = np.zeros((np.shape(cleaned)))
masked[cleaned == 0] = np.nan





fig = plt.figure(figsize=(8, 6))

ax = fig.add_subplot(1, 1, 1)
ax.set_xticks([])
ax.set_yticks([])

plt.imshow(seismic[:,:,15], cmap='gray_r')
plt.colorbar()

plt.imshow(masked[:,:,15], cmap='Reds')
plt.gca().invert_xaxis()
cb = plt.colorbar()
cb.set_ticks([])








print('Is inline the fast mode? ' + str(segyfile.fast is segyfile.iline))





dim = np.shape(similarity)
idx = np.arange(0, dim[0])
print(np.amin(idx), np.amax(idx))

lns = np.arange(np.amin(segyfile.ilines), np.amax(segyfile.ilines)+1)
print(np.amin(lns), np.amax(lns))





cleaned = cleaned.astype('float32')


input_file = '../../data/basic/F3_Similarity_FEF_subvolume_IL230-430_XL475-675_T1600-1800.sgy'
output_file = '../../data/basic/F3_Faults_subvolume_IL230-430_XL475-675_T1600-1800.sgy'

copyfile(input_file, output_file)

with segyio.open(output_file, "r+") as dst:
    for i,j in zip(lns,idx):
        dst.iline[i] = cleaned[j,:,:]


!rm ../../data/basic/F3_Faults_subvolume_IL230-430_XL475-675_T1600-1800.sgy
