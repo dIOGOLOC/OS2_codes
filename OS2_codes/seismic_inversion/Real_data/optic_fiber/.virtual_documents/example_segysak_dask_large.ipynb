





# when you first download it you will have to convert it to seisnc (NETCDF4)
from segysak.segy import segy_converter
segy_converter('f3_seismic_full.sgy', f3_seismic_full.seisnc, iline=189, xline=193, cdp_x=181, cdp_y=185)





import numpy as np
from segysak import open_seisnc
import xarray as xr

import matplotlib.pyplot as plt
%matplotlib inline





from dask.distributed import Client

client = Client()
client





client.cluster.scale(2, memory='500mb')
import time
time.sleep(4)
client





seisnc = open_seisnc('data/f3_seismic_full.SEISNC', chunks={'iline':200, 'xline':200})
print(seisnc.seis.humanbytes)
print(seisnc.chunks)





seisnc





mean = seisnc.data.mean()
mean





from dask import visualize


# This requires graphviz to be installed.
#visualize(mean, filename='graph', format='png')





mean.compute().values





import timeit


std = seisnc.data.std().compute().values


fig, axs = plt.subplots(nrows=2, ncols=3, figsize=(20, 10))

elapsed1 = list()
start_time = timeit.default_timer()

iline = seisnc.sel(iline = 400).transpose('twt', 'xline').data
xline = seisnc.sel(xline = 400).transpose('twt', 'iline').data
zslice = seisnc.sel(twt = 1250, method='nearest').transpose('iline', 'xline').data

# code you want to evaluate
elapsed1.append(timeit.default_timer() - start_time)

elapsed1.append(timeit.default_timer() - start_time)

iline.plot(robust=True, ax=axs[0, 0], yincrease=False)
xline.plot(robust=True, ax=axs[0, 1], yincrease=False)
zslice.plot(robust=True, ax=axs[0, 2])

imshow_kwargs = dict(
    cmap='seismic', aspect='auto', vmin=-std*3, vmax=std*3, interpolation='bicubic'
)

elapsed1.append(timeit.default_timer() - start_time)

axs[1, 0].imshow(iline.values, **imshow_kwargs)
axs[1, 0].set_title('iline')
axs[1, 1].imshow(xline.values, **imshow_kwargs)
axs[1, 1].set_title('xline')
axs[1, 2].imshow(zslice.values, origin='lower', **imshow_kwargs)
axs[1, 2].set_title('twt')

elapsed1.append(timeit.default_timer() - start_time)








seisnc_std = (seisnc.data - seisnc.data.mean())/seisnc.data.std()
seisnc_std = seisnc_std*10.0
#print(seisnc_std.std().compute())
seisnc_std.to_netcdf('test_dask5.seisnc', compute=True)


# this bad - very bad when you already have a delayed object like xarray don't use the delayed decorator

from dask import delayed

@delayed(pure=True)
def standardise_to_10(data):
    return (data.data - data.data.mean())/data.data.std()

#print(standardise_to_10(seisnc.data))

s = standardise_to_10(seisnc)
s = s.to_netcdf('test_dask.seisnc', compute=False)
s.result().compute()





# we need to remove attrs which contain nan for output.
seisnc.attrs = {}


import dask.array as da

def linear_gain(x, twt, gain_per_second):
    x = x*twt*gain_per_second
    return x
    
seisnc = seisnc.transpose('twt', 'iline', 'xline')
    
with_gain = da.apply_along_axis(
    linear_gain, 0, seisnc.data, seisnc.twt.values, 0.1)





with_gain





seisnc['data'] = (('twt', 'iline', 'xline'), with_gain)


# At this point the data still exists in the task graph and no computation as yet been done.
seisnc





seisnc.to_netcdf('gained.seisnc')





fig, axs = plt.subplots(nrows=2, ncols=3, figsize=(20, 10))

gained = open_seisnc('gained.seisnc', chunks={'iline':100, 'xline':100})

iline = gained.sel(iline = 400).transpose('twt', 'xline').data
xline = gained.sel(xline = 400).transpose('twt', 'iline').data
zslice = gained.sel(twt = 1250, method='nearest').transpose('iline', 'xline').data

# code you want to evaluate
iline.plot(robust=True, ax=axs[0, 0], yincrease=False)
xline.plot(robust=True, ax=axs[0, 1], yincrease=False)
zslice.plot(robust=True, ax=axs[0, 2])

std = 400_000

imshow_kwargs = dict(
    cmap='seismic', aspect='auto', vmin=-std*3, vmax=std*3, interpolation='bicubic'
)

axs[1, 0].imshow(iline.values, **imshow_kwargs)
axs[1, 0].set_title('iline')
axs[1, 1].imshow(xline.values, **imshow_kwargs)
axs[1, 1].set_title('xline')
axs[1, 2].imshow(zslice.values, origin='lower', **imshow_kwargs)
axs[1, 2].set_title('twt')



