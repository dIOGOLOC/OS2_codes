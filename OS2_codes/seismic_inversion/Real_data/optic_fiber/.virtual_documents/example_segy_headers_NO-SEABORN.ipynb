





import warnings
warnings.filterwarnings('ignore')


from segysak.segy import segy_header_scan
# default just needs the file name
scan = segy_header_scan('/media/enseadamartel/Expansion/dados_monitor1/estacao258_total.sgy')
scan





import pandas as pd
with pd.option_context('display.max_rows', 89):
    display(scan)





# NIIIICCCEEEE...
scan[scan['std'] > 0]





from segysak.segy import segy_header_scrape
scrape = segy_header_scrape('/media/enseadamartel/Expansion/dados_monitor1/estacao258_total.sgy', partial_scan=10000)
scrape





scrape = scrape[scan[scan['std'] > 0].index]
scrape





import matplotlib.pyplot as plt
%matplotlib inline


plot = scrape.hist(bins=25, figsize=(20, 10))





fig, axs = plt.subplots(nrows=2, figsize=(12, 10), sharex=True, sharey=True)

scrape.plot(kind='scatter', x='CDP_X', y='CDP_Y', c='INLINE_3D', ax=axs[0], cmap='gist_ncar')
scrape.plot(kind='scatter', x='CDP_X', y='CDP_Y', c='CROSSLINE_3D', ax=axs[1], cmap='gist_ncar')
for aa in axs:
    aa.set_aspect('equal', 'box')



