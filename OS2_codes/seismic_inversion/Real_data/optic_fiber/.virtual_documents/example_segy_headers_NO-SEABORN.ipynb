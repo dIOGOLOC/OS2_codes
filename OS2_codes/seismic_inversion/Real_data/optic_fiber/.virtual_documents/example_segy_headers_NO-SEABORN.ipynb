





import warnings
warnings.filterwarnings('ignore')


from segysak.segy import segy_header_scan
# default just needs the file name
scan = segy_header_scan('/home/enseadamartel/Documents/OS2_dIOGO_2025/01_dados_brutos/Dados_teste_SEGY/segy/247_Santos_part2a.sgy')
#scan = segy_header_scan('/media/enseadamartel/Expansion/dados_monitor1/estacao258_total.sgy')
scan





import pandas as pd
with pd.option_context('display.max_rows', 89):
    display(scan)





# NIIIICCCEEEE...
scan[scan['std'] > 0]





from segysak.segy import segy_header_scrape
scrape = segy_header_scrape('/home/enseadamartel/Documents/OS2_dIOGO_2025/01_dados_brutos/Dados_teste_SEGY/segy/247_Santos_part1c.sgy', partial_scan=100000)
scrape


scrape.columns


scrape.TraceNumber.unique()


scrape.DayOfYear.unique()


scrape.YearDataRecorded.unique()


scrape.CDP_Y


scrape.CDP_X





scrape = scrape[scan[scan['std'] > 0].index]
scrape





import matplotlib.pyplot as plt
%matplotlib inline


plot = scrape.hist(bins=25, figsize=(20, 10))
plt.show()





fig, axs = plt.subplots(nrows=1, figsize=(12, 10), sharex=True, sharey=True)

scrape.plot(kind='scatter', x='CDP_X', y='CDP_Y', c='k', ax=axs, cmap='viridis')
#scrape.plot(kind='scatter', x='SourceX', y='SourceY', c='k', ax=axs, cmap='gist_ncar')
plt.show()


import pathlib
import xarray as xr
from IPython.display import display

volve_3d_path = pathlib.Path("/home/enseadamartel/Documents/OS2_dIOGO_2025/01_dados_brutos/Dados_teste_SEGY/segy/247_Santos_part1c.sgy")
print("3D", volve_3d_path.exists())

volve_3d = xr.open_dataset(volve_3d_path, dim_byte_fields={'iline': 5,'xline': 21}, extra_byte_fields={'cdp_x': 73, 'cdp_y': 77})


volve_3d


grid = volve_3d.data.values[:10]


volve_3d.samples.values





for i,j in enumerate(grid):
    plt.plot(j[0],volve_3d.samples.values[::-1],alpha=0.1)
plt.show()


grid.T.shape


grid.shape


fig, ax = plt.subplots(nrows=1, ncols=1, figsize=(9, 6))

ax.imshow(grid, interpolation='lanczos', cmap='viridis')
plt.show()



